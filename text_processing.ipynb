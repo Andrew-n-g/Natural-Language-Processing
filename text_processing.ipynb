{
 "cells": [
  {
   "cell_type": "markdown",
   "metadata": {},
   "source": [
    "# Text Processing\n",
    "\n",
    "## Capturing Text Data\n",
    "\n",
    "### Plain Text"
   ]
  },
  {
   "cell_type": "code",
   "execution_count": 1,
   "metadata": {},
   "outputs": [
    {
     "name": "stdout",
     "output_type": "stream",
     "text": [
      "Hieroglyphic writing dates from c. 3000 BC, and is composed of hundreds of symbols. A hieroglyph can represent a word, a sound, or a silent determinative; and the same symbol can serve different purposes in different contexts. Hieroglyphs were a formal script, used on stone monuments and in tombs, that could be as detailed as individual works of art.\n",
      "\n"
     ]
    }
   ],
   "source": [
    "import os\n",
    "\n",
    "# Read in a plain text file\n",
    "with open(os.path.join(\"data\", \"hieroglyph.txt\"), \"r\") as f:\n",
    "    text = f.read()\n",
    "    print(text)"
   ]
  },
  {
   "cell_type": "markdown",
   "metadata": {},
   "source": [
    "### Tabular Data"
   ]
  },
  {
   "cell_type": "code",
   "execution_count": 2,
   "metadata": {
    "scrolled": true
   },
   "outputs": [
    {
     "data": {
      "text/html": [
       "<div>\n",
       "<style scoped>\n",
       "    .dataframe tbody tr th:only-of-type {\n",
       "        vertical-align: middle;\n",
       "    }\n",
       "\n",
       "    .dataframe tbody tr th {\n",
       "        vertical-align: top;\n",
       "    }\n",
       "\n",
       "    .dataframe thead th {\n",
       "        text-align: right;\n",
       "    }\n",
       "</style>\n",
       "<table border=\"1\" class=\"dataframe\">\n",
       "  <thead>\n",
       "    <tr style=\"text-align: right;\">\n",
       "      <th></th>\n",
       "      <th>publisher</th>\n",
       "      <th>title</th>\n",
       "    </tr>\n",
       "  </thead>\n",
       "  <tbody>\n",
       "    <tr>\n",
       "      <th>0</th>\n",
       "      <td>Livemint</td>\n",
       "      <td>fed's charles plosser sees high bar for change...</td>\n",
       "    </tr>\n",
       "    <tr>\n",
       "      <th>1</th>\n",
       "      <td>IFA Magazine</td>\n",
       "      <td>us open: stocks fall after fed official hints ...</td>\n",
       "    </tr>\n",
       "    <tr>\n",
       "      <th>2</th>\n",
       "      <td>IFA Magazine</td>\n",
       "      <td>fed risks falling 'behind the curve', charles ...</td>\n",
       "    </tr>\n",
       "    <tr>\n",
       "      <th>3</th>\n",
       "      <td>Moneynews</td>\n",
       "      <td>fed's plosser: nasty weather has curbed job gr...</td>\n",
       "    </tr>\n",
       "    <tr>\n",
       "      <th>4</th>\n",
       "      <td>NASDAQ</td>\n",
       "      <td>plosser: fed may have to accelerate tapering pace</td>\n",
       "    </tr>\n",
       "  </tbody>\n",
       "</table>\n",
       "</div>"
      ],
      "text/plain": [
       "      publisher                                              title\n",
       "0      Livemint  fed's charles plosser sees high bar for change...\n",
       "1  IFA Magazine  us open: stocks fall after fed official hints ...\n",
       "2  IFA Magazine  fed risks falling 'behind the curve', charles ...\n",
       "3     Moneynews  fed's plosser: nasty weather has curbed job gr...\n",
       "4        NASDAQ  plosser: fed may have to accelerate tapering pace"
      ]
     },
     "execution_count": 2,
     "metadata": {},
     "output_type": "execute_result"
    }
   ],
   "source": [
    "import pandas as pd\n",
    "\n",
    "# Extract text column from a dataframe\n",
    "df = pd.read_csv(os.path.join(\"data\", \"news.csv\"))\n",
    "df.head()[['publisher', 'title']]\n",
    "\n",
    "# Convert text column to lowercase\n",
    "df['title'] = df['title'].str.lower()\n",
    "df.head()[['publisher', 'title']]"
   ]
  },
  {
   "cell_type": "markdown",
   "metadata": {},
   "source": [
    "### Online Resource"
   ]
  },
  {
   "cell_type": "code",
   "execution_count": 3,
   "metadata": {
    "scrolled": true
   },
   "outputs": [
    {
     "name": "stdout",
     "output_type": "stream",
     "text": [
      "{\n",
      "    \"success\": {\n",
      "        \"total\": 1\n",
      "    },\n",
      "    \"contents\": {\n",
      "        \"quotes\": [\n",
      "            {\n",
      "                \"quote\": \"If you want to make your dreams come true, the first thing you have to do is wake up.\",\n",
      "                \"length\": \"85\",\n",
      "                \"author\": \"J.M. Power\",\n",
      "                \"tags\": [\n",
      "                    \"dream\",\n",
      "                    \"inspire\"\n",
      "                ],\n",
      "                \"category\": \"inspire\",\n",
      "                \"language\": \"en\",\n",
      "                \"date\": \"2020-05-31\",\n",
      "                \"permalink\": \"https://theysaidso.com/quote/jm-power-if-you-want-to-make-your-dreams-come-true-the-first-thing-you-have-to-d\",\n",
      "                \"id\": \"ITpzQAy0WOMy0rJZqbi6rQeF\",\n",
      "                \"background\": \"https://theysaidso.com/img/qod/qod-inspire.jpg\",\n",
      "                \"title\": \"Inspiring Quote of the day\"\n",
      "            }\n",
      "        ]\n",
      "    },\n",
      "    \"baseurl\": \"https://theysaidso.com\",\n",
      "    \"copyright\": {\n",
      "        \"year\": 2022,\n",
      "        \"url\": \"https://theysaidso.com\"\n",
      "    }\n",
      "}\n",
      "If you want to make your dreams come true, the first thing you have to do is wake up. \n",
      "-- J.M. Power\n"
     ]
    }
   ],
   "source": [
    "import requests\n",
    "import json\n",
    "\n",
    "# Fetch data from a REST API\n",
    "r = requests.get(\n",
    "    \"https://quotes.rest/qod.json\")\n",
    "res = r.json()\n",
    "print(json.dumps(res, indent=4))\n",
    "\n",
    "# Extract relevant object and field\n",
    "q = res[\"contents\"][\"quotes\"][0]\n",
    "print(q[\"quote\"], \"\\n--\", q[\"author\"])"
   ]
  },
  {
   "cell_type": "markdown",
   "metadata": {},
   "source": [
    "## Cleaning"
   ]
  },
  {
   "cell_type": "code",
   "execution_count": 4,
   "metadata": {
    "scrolled": true
   },
   "outputs": [
    {
     "name": "stdout",
     "output_type": "stream",
     "text": [
      "<html lang=\"en\" op=\"news\"><head><meta name=\"referrer\" content=\"origin\"><meta name=\"viewport\" content=\"width=device-width, initial-scale=1.0\"><link rel=\"stylesheet\" type=\"text/css\" href=\"news.css?6osDtdDRJS2fPerXRqDm\">\n",
      "        <link rel=\"shortcut icon\" href=\"favicon.ico\">\n",
      "          <link rel=\"alternate\" type=\"application/rss+xml\" title=\"RSS\" href=\"rss\">\n",
      "        <title>Hacker News</title></head><body><center><table id=\"hnmain\" border=\"0\" cellpadding=\"0\" cellspacing=\"0\" width=\"85%\" bgcolor=\"#f6f6ef\">\n",
      "        <tr><td bgcolor=\"#ff6600\"><table border=\"0\" cellpadding=\"0\" cellspacing=\"0\" width=\"100%\" style=\"padding:2px\"><tr><td style=\"width:18px;padding-right:4px\"><a href=\"https://news.ycombinator.com\"><img src=\"y18.gif\" width=\"18\" height=\"18\" style=\"border:1px white solid;\"></a></td>\n",
      "                  <td style=\"line-height:12pt; height:10px;\"><span class=\"pagetop\"><b class=\"hnname\"><a href=\"news\">Hacker News</a></b>\n",
      "              <a href=\"newest\">new</a> | <a href=\"front\">past</a> | <a href=\"newcomments\">comments</a> | <a href=\"ask\">ask</a> | <a href=\"show\">show</a> | <a href=\"jobs\">jobs</a> | <a href=\"submit\">submit</a>            </span></td><td style=\"text-align:right;padding-right:4px;\"><span class=\"pagetop\">\n",
      "                              <a href=\"login?goto=news\">login</a>\n",
      "                          </span></td>\n",
      "              </tr></table></td></tr>\n",
      "<tr id=\"pagespace\" title=\"\" style=\"height:10px\"></tr><tr><td><table border=\"0\" cellpadding=\"0\" cellspacing=\"0\" class=\"itemlist\">\n",
      "              <tr class='athing' id='23369604'>\n",
      "      <td align=\"right\" valign=\"top\" class=\"title\"><span class=\"rank\">1.</span></td>      <td valign=\"top\" class=\"votelinks\"><center><a id='up_23369604' href='vote?id=23369604&amp;how=up&amp;goto=news'><div class='votearrow' title='upvote'></div></a></center></td><td class=\"title\"><a href=\"https://bps.space/falcon-heavy\" class=\"storylink\">A 1/48 scale model of the SpaceX Falcon Heavy rocket</a><span class=\"sitebit comhead\"> (<a href=\"from?site=bps.space\"><span class=\"sitestr\">bps.space</span></a>)</span></td></tr><tr><td colspan=\"2\"></td><td class=\"subtext\">\n",
      "        <span class=\"score\" id=\"score_23369604\">406 points</span> by <a href=\"user?id=pmorici\" class=\"hnuser\">pmorici</a> <span class=\"age\"><a href=\"item?id=23369604\">5 hours ago</a></span> <span id=\"unv_23369604\"></span> | <a href=\"hide?id=23369604&amp;goto=news\">hide</a> | <a href=\"item?id=23369604\">43&nbsp;comments</a>              </td></tr>\n",
      "      <tr class=\"spacer\" style=\"height:5px\"></tr>\n",
      "                <tr class='athing' id='23369873'>\n",
      "      <td align=\"right\" valign=\"top\" class=\"title\"><span class=\"rank\">2.</span></td>      <td valign=\"top\" class=\"votelinks\"><center><a id='up_23369873' href='vote?id=23369873&amp;how=up&amp;goto=news'><div class='votearrow' title='upvote'></div></a></center></td><td class=\"title\"><a href=\"https://everestpipkin.github.io/image-scrubber/\" class=\"storylink\">Image Scrubber: tool for anonymizing photographs taken at protests</a><span class=\"sitebit comhead\"> (<a href=\"from?site=everestpipkin.github.io\"><span class=\"sitestr\">everestpipkin.github.io</span></a>)</span></td></tr><tr><td colspan=\"2\"></td><td class=\"subtext\">\n",
      "        <span class=\"score\" id=\"score_23369873\">256 points</span> by <a href=\"user?id=dsr12\" class=\"hnuser\">dsr12</a> <span class=\"age\"><a href=\"item?id=23369873\">4 hours ago</a></span> <span id=\"unv_23369873\"></span> | <a href=\"hide?id=23369873&amp;goto=news\">hide</a> | <a href=\"item?id=23369873\">133&nbsp;comments</a>              </td></tr>\n",
      "      <tr class=\"spacer\" style=\"height:5px\"></tr>\n",
      "                <tr class='athing' id='23370009'>\n",
      "      <td align=\"right\" valign=\"top\" class=\"title\"><span class=\"rank\">3.</span></td>      <td valign=\"top\" class=\"votelinks\"><center><a id='up_23370009' href='vote?id=23370009&amp;how=up&amp;goto=news'><div class='votearrow' title='upvote'></div></a></center></td><td class=\"title\"><a href=\"https://qvault.io/2019/12/31/very-basic-intro-to-elliptic-curve-cryptography/\" class=\"storylink\">Basic Intro to Elliptic Curve Cryptography (2019)</a><span class=\"sitebit comhead\"> (<a href=\"from?site=qvault.io\"><span class=\"sitestr\">qvault.io</span></a>)</span></td></tr><tr><td colspan=\"2\"></td><td class=\"subtext\">\n",
      "        <span class=\"score\" id=\"score_23370009\">146 points</span> by <a href=\"user?id=lanecwagner\" class=\"hnuser\">lanecwagner</a> <span class=\"age\"><a href=\"item?id=23370009\">3 hours ago</a></span> <span id=\"unv_23370009\"></span> | <a href=\"hide?id=23370009&amp;goto=news\">hide</a> | <a href=\"item?id=23370009\">26&nbsp;comments</a>              </td></tr>\n",
      "      <tr class=\"spacer\" style=\"height:5px\"></tr>\n",
      "                <tr class='athing' id='23370768'>\n",
      "      <td align=\"right\" valign=\"top\" class=\"title\"><span class=\"rank\">4.</span></td>      <td valign=\"top\" class=\"votelinks\"><center><a id='up_23370768' href='vote?id=23370768&amp;how=up&amp;goto=news'><div class='votearrow' title='upvote'></div></a></center></td><td class=\"title\"><a href=\"https://health.ucdavis.edu/health-news/contenthub/autism-severity-can-change-substantially-during-early-childhood/2020/05\" class=\"storylink\">Autism severity can change substantially during early childhood, study suggests</a><span class=\"sitebit comhead\"> (<a href=\"from?site=ucdavis.edu\"><span class=\"sitestr\">ucdavis.edu</span></a>)</span></td></tr><tr><td colspan=\"2\"></td><td class=\"subtext\">\n",
      "        <span class=\"score\" id=\"score_23370768\">42 points</span> by <a href=\"user?id=EndXA\" class=\"hnuser\">EndXA</a> <span class=\"age\"><a href=\"item?id=23370768\">2 hours ago</a></span> <span id=\"unv_23370768\"></span> | <a href=\"hide?id=23370768&amp;goto=news\">hide</a> | <a href=\"item?id=23370768\">34&nbsp;comments</a>              </td></tr>\n",
      "      <tr class=\"spacer\" style=\"height:5px\"></tr>\n",
      "                <tr class='athing' id='23369488'>\n",
      "      <td align=\"right\" valign=\"top\" class=\"title\"><span class=\"rank\">5.</span></td>      <td valign=\"top\" class=\"votelinks\"><center><a id='up_23369488' href='vote?id=23369488&amp;how=up&amp;goto=news'><div class='votearrow' title='upvote'></div></a></center></td><td class=\"title\"><a href=\"https://simon.shimmerproject.org/2020/04/30/xfce-switches-to-gitlab/\" class=\"storylink\">Xfce switches to GitLab</a><span class=\"sitebit comhead\"> (<a href=\"from?site=shimmerproject.org\"><span class=\"sitestr\">shimmerproject.org</span></a>)</span></td></tr><tr><td colspan=\"2\"></td><td class=\"subtext\">\n",
      "        <span class=\"score\" id=\"score_23369488\">206 points</span> by <a href=\"user?id=reddotX\" class=\"hnuser\">reddotX</a> <span class=\"age\"><a href=\"item?id=23369488\">5 hours ago</a></span> <span id=\"unv_23369488\"></span> | <a href=\"hide?id=23369488&amp;goto=news\">hide</a> | <a href=\"item?id=23369488\">95&nbsp;comments</a>              </td></tr>\n",
      "      <tr class=\"spacer\" style=\"height:5px\"></tr>\n",
      "                <tr class='athing' id='23366546'>\n",
      "      <td align=\"right\" valign=\"top\" class=\"title\"><span class=\"rank\">6.</span></td>      <td valign=\"top\" class=\"votelinks\"><center><a id='up_23366546' href='vote?id=23366546&amp;how=up&amp;goto=news'><div class='votearrow' title='upvote'></div></a></center></td><td class=\"title\"><a href=\"item?id=23366546\" class=\"storylink\">Ask HN: Am I the longest-serving programmer – 57 years and counting?</a></td></tr><tr><td colspan=\"2\"></td><td class=\"subtext\">\n",
      "        <span class=\"score\" id=\"score_23366546\">1862 points</span> by <a href=\"user?id=genedangelo\" class=\"hnuser\">genedangelo</a> <span class=\"age\"><a href=\"item?id=23366546\">17 hours ago</a></span> <span id=\"unv_23366546\"></span> | <a href=\"hide?id=23366546&amp;goto=news\">hide</a> | <a href=\"item?id=23366546\">371&nbsp;comments</a>              </td></tr>\n",
      "      <tr class=\"spacer\" style=\"height:5px\"></tr>\n",
      "                <tr class='athing' id='23366041'>\n",
      "      <td align=\"right\" valign=\"top\" class=\"title\"><span class=\"rank\">7.</span></td>      <td valign=\"top\" class=\"votelinks\"><center><a id='up_23366041' href='vote?id=23366041&amp;how=up&amp;goto=news'><div class='votearrow' title='upvote'></div></a></center></td><td class=\"title\"><a href=\"https://increment.com/frontend/the-rise-of-react/\" class=\"storylink\">The rise of React</a><span class=\"sitebit comhead\"> (<a href=\"from?site=increment.com\"><span class=\"sitestr\">increment.com</span></a>)</span></td></tr><tr><td colspan=\"2\"></td><td class=\"subtext\">\n",
      "        <span class=\"score\" id=\"score_23366041\">50 points</span> by <a href=\"user?id=prostoalex\" class=\"hnuser\">prostoalex</a> <span class=\"age\"><a href=\"item?id=23366041\">2 hours ago</a></span> <span id=\"unv_23366041\"></span> | <a href=\"hide?id=23366041&amp;goto=news\">hide</a> | <a href=\"item?id=23366041\">22&nbsp;comments</a>              </td></tr>\n",
      "      <tr class=\"spacer\" style=\"height:5px\"></tr>\n",
      "                <tr class='athing' id='23370646'>\n",
      "      <td align=\"right\" valign=\"top\" class=\"title\"><span class=\"rank\">8.</span></td>      <td valign=\"top\" class=\"votelinks\"><center><a id='up_23370646' href='vote?id=23370646&amp;how=up&amp;goto=news'><div class='votearrow' title='upvote'></div></a></center></td><td class=\"title\"><a href=\"https://wifi.dev.bdw.to\" class=\"storylink\">Show HN: Print a WiFi Login Card</a><span class=\"sitebit comhead\"> (<a href=\"from?site=bdw.to\"><span class=\"sitestr\">bdw.to</span></a>)</span></td></tr><tr><td colspan=\"2\"></td><td class=\"subtext\">\n",
      "        <span class=\"score\" id=\"score_23370646\">39 points</span> by <a href=\"user?id=bndw\" class=\"hnuser\">bndw</a> <span class=\"age\"><a href=\"item?id=23370646\">2 hours ago</a></span> <span id=\"unv_23370646\"></span> | <a href=\"hide?id=23370646&amp;goto=news\">hide</a> | <a href=\"item?id=23370646\">17&nbsp;comments</a>              </td></tr>\n",
      "      <tr class=\"spacer\" style=\"height:5px\"></tr>\n",
      "                <tr class='athing' id='23367166'>\n",
      "      <td align=\"right\" valign=\"top\" class=\"title\"><span class=\"rank\">9.</span></td>      <td valign=\"top\" class=\"votelinks\"><center><a id='up_23367166' href='vote?id=23367166&amp;how=up&amp;goto=news'><div class='votearrow' title='upvote'></div></a></center></td><td class=\"title\"><a href=\"https://www.parkcityluxuryrealestate.com/blog/google-gave-our-our-business-listing-to-a-competitor-and-our-fight-to-get-it-back.html\" class=\"storylink\">Google gave our business listing to a competitor</a><span class=\"sitebit comhead\"> (<a href=\"from?site=parkcityluxuryrealestate.com\"><span class=\"sitestr\">parkcityluxuryrealestate.com</span></a>)</span></td></tr><tr><td colspan=\"2\"></td><td class=\"subtext\">\n",
      "        <span class=\"score\" id=\"score_23367166\">490 points</span> by <a href=\"user?id=benryon\" class=\"hnuser\">benryon</a> <span class=\"age\"><a href=\"item?id=23367166\">14 hours ago</a></span> <span id=\"unv_23367166\"></span> | <a href=\"hide?id=23367166&amp;goto=news\">hide</a> | <a href=\"item?id=23367166\">122&nbsp;comments</a>              </td></tr>\n",
      "      <tr class=\"spacer\" style=\"height:5px\"></tr>\n",
      "                <tr class='athing' id='23369999'>\n",
      "      <td align=\"right\" valign=\"top\" class=\"title\"><span class=\"rank\">10.</span></td>      <td valign=\"top\" class=\"votelinks\"><center><a id='up_23369999' href='vote?id=23369999&amp;how=up&amp;goto=news'><div class='votearrow' title='upvote'></div></a></center></td><td class=\"title\"><a href=\"https://thume.ca/2020/05/20/making-a-latency-tester/\" class=\"storylink\">Measuring keyboard-to-photon latency with a light sensor</a><span class=\"sitebit comhead\"> (<a href=\"from?site=thume.ca\"><span class=\"sitestr\">thume.ca</span></a>)</span></td></tr><tr><td colspan=\"2\"></td><td class=\"subtext\">\n",
      "        <span class=\"score\" id=\"score_23369999\">65 points</span> by <a href=\"user?id=chmaynard\" class=\"hnuser\">chmaynard</a> <span class=\"age\"><a href=\"item?id=23369999\">3 hours ago</a></span> <span id=\"unv_23369999\"></span> | <a href=\"hide?id=23369999&amp;goto=news\">hide</a> | <a href=\"item?id=23369999\">24&nbsp;comments</a>              </td></tr>\n",
      "      <tr class=\"spacer\" style=\"height:5px\"></tr>\n",
      "                <tr class='athing' id='23368453'>\n",
      "      <td align=\"right\" valign=\"top\" class=\"title\"><span class=\"rank\">11.</span></td>      <td valign=\"top\" class=\"votelinks\"><center><a id='up_23368453' href='vote?id=23368453&amp;how=up&amp;goto=news'><div class='votearrow' title='upvote'></div></a></center></td><td class=\"title\"><a href=\"https://arxiv.org/abs/2005.11710\" class=\"storylink\">Featherweight Go</a><span class=\"sitebit comhead\"> (<a href=\"from?site=arxiv.org\"><span class=\"sitestr\">arxiv.org</span></a>)</span></td></tr><tr><td colspan=\"2\"></td><td class=\"subtext\">\n",
      "        <span class=\"score\" id=\"score_23368453\">177 points</span> by <a href=\"user?id=4ad\" class=\"hnuser\">4ad</a> <span class=\"age\"><a href=\"item?id=23368453\">8 hours ago</a></span> <span id=\"unv_23368453\"></span> | <a href=\"hide?id=23368453&amp;goto=news\">hide</a> | <a href=\"item?id=23368453\">79&nbsp;comments</a>              </td></tr>\n",
      "      <tr class=\"spacer\" style=\"height:5px\"></tr>\n",
      "                <tr class='athing' id='23369817'>\n",
      "      <td align=\"right\" valign=\"top\" class=\"title\"><span class=\"rank\">12.</span></td>      <td valign=\"top\" class=\"votelinks\"><center><a id='up_23369817' href='vote?id=23369817&amp;how=up&amp;goto=news'><div class='votearrow' title='upvote'></div></a></center></td><td class=\"title\"><a href=\"https://spacenews.com/crew-dragon-docks-with-iss-2/\" class=\"storylink\">Crew Dragon Docks with ISS</a><span class=\"sitebit comhead\"> (<a href=\"from?site=spacenews.com\"><span class=\"sitestr\">spacenews.com</span></a>)</span></td></tr><tr><td colspan=\"2\"></td><td class=\"subtext\">\n",
      "        <span class=\"score\" id=\"score_23369817\">236 points</span> by <a href=\"user?id=Kaibeezy\" class=\"hnuser\">Kaibeezy</a> <span class=\"age\"><a href=\"item?id=23369817\">4 hours ago</a></span> <span id=\"unv_23369817\"></span> | <a href=\"hide?id=23369817&amp;goto=news\">hide</a> | <a href=\"item?id=23369817\">130&nbsp;comments</a>              </td></tr>\n",
      "      <tr class=\"spacer\" style=\"height:5px\"></tr>\n",
      "                <tr class='athing' id='23368851'>\n",
      "      <td align=\"right\" valign=\"top\" class=\"title\"><span class=\"rank\">13.</span></td>      <td valign=\"top\" class=\"votelinks\"><center><a id='up_23368851' href='vote?id=23368851&amp;how=up&amp;goto=news'><div class='votearrow' title='upvote'></div></a></center></td><td class=\"title\"><a href=\"https://www.publish.csiro.au/en/EN19206\" class=\"storylink\">Chemical analysis and origin of the smell of line-dried laundry</a><span class=\"sitebit comhead\"> (<a href=\"from?site=publish.csiro.au\"><span class=\"sitestr\">publish.csiro.au</span></a>)</span></td></tr><tr><td colspan=\"2\"></td><td class=\"subtext\">\n",
      "        <span class=\"score\" id=\"score_23368851\">102 points</span> by <a href=\"user?id=bookofjoe\" class=\"hnuser\">bookofjoe</a> <span class=\"age\"><a href=\"item?id=23368851\">7 hours ago</a></span> <span id=\"unv_23368851\"></span> | <a href=\"hide?id=23368851&amp;goto=news\">hide</a> | <a href=\"item?id=23368851\">51&nbsp;comments</a>              </td></tr>\n",
      "      <tr class=\"spacer\" style=\"height:5px\"></tr>\n",
      "                <tr class='athing' id='23370153'>\n",
      "      <td align=\"right\" valign=\"top\" class=\"title\"><span class=\"rank\">14.</span></td>      <td valign=\"top\" class=\"votelinks\"><center><a id='up_23370153' href='vote?id=23370153&amp;how=up&amp;goto=news'><div class='votearrow' title='upvote'></div></a></center></td><td class=\"title\"><a href=\"https://danmunro.com/posts/ci-cd-on-a-budget-for-open-source-projects/\" class=\"storylink\">CI/CD on a budget for open source projects</a><span class=\"sitebit comhead\"> (<a href=\"from?site=danmunro.com\"><span class=\"sitestr\">danmunro.com</span></a>)</span></td></tr><tr><td colspan=\"2\"></td><td class=\"subtext\">\n",
      "        <span class=\"score\" id=\"score_23370153\">21 points</span> by <a href=\"user?id=danielmunro\" class=\"hnuser\">danielmunro</a> <span class=\"age\"><a href=\"item?id=23370153\">3 hours ago</a></span> <span id=\"unv_23370153\"></span> | <a href=\"hide?id=23370153&amp;goto=news\">hide</a> | <a href=\"item?id=23370153\">4&nbsp;comments</a>              </td></tr>\n",
      "      <tr class=\"spacer\" style=\"height:5px\"></tr>\n",
      "                <tr class='athing' id='23370890'>\n",
      "      <td align=\"right\" valign=\"top\" class=\"title\"><span class=\"rank\">15.</span></td>      <td valign=\"top\" class=\"votelinks\"><center><a id='up_23370890' href='vote?id=23370890&amp;how=up&amp;goto=news'><div class='votearrow' title='upvote'></div></a></center></td><td class=\"title\"><a href=\"https://ranvir.xyz/blog/k-nearest-neighbor-algorithm-using-sklearn-distance-metric/\" class=\"storylink\">Introduction to K-nearest neighbour algorithm using Sklear</a><span class=\"sitebit comhead\"> (<a href=\"from?site=ranvir.xyz\"><span class=\"sitestr\">ranvir.xyz</span></a>)</span></td></tr><tr><td colspan=\"2\"></td><td class=\"subtext\">\n",
      "        <span class=\"score\" id=\"score_23370890\">11 points</span> by <a href=\"user?id=shsharma\" class=\"hnuser\">shsharma</a> <span class=\"age\"><a href=\"item?id=23370890\">1 hour ago</a></span> <span id=\"unv_23370890\"></span> | <a href=\"hide?id=23370890&amp;goto=news\">hide</a> | <a href=\"item?id=23370890\">4&nbsp;comments</a>              </td></tr>\n",
      "      <tr class=\"spacer\" style=\"height:5px\"></tr>\n",
      "                <tr class='athing' id='23369654'>\n",
      "      <td align=\"right\" valign=\"top\" class=\"title\"><span class=\"rank\">16.</span></td>      <td valign=\"top\" class=\"votelinks\"><center><a id='up_23369654' href='vote?id=23369654&amp;how=up&amp;goto=news'><div class='votearrow' title='upvote'></div></a></center></td><td class=\"title\"><a href=\"https://thedeepdish.org/efficient-market-hypothesis-is-not-dead/\" class=\"storylink\">Kindly Stop Saying the Efficient Market Hypothesis Is Dead</a><span class=\"sitebit comhead\"> (<a href=\"from?site=thedeepdish.org\"><span class=\"sitestr\">thedeepdish.org</span></a>)</span></td></tr><tr><td colspan=\"2\"></td><td class=\"subtext\">\n",
      "        <span class=\"score\" id=\"score_23369654\">39 points</span> by <a href=\"user?id=jacobedawson\" class=\"hnuser\">jacobedawson</a> <span class=\"age\"><a href=\"item?id=23369654\">4 hours ago</a></span> <span id=\"unv_23369654\"></span> | <a href=\"hide?id=23369654&amp;goto=news\">hide</a> | <a href=\"item?id=23369654\">39&nbsp;comments</a>              </td></tr>\n",
      "      <tr class=\"spacer\" style=\"height:5px\"></tr>\n",
      "                <tr class='athing' id='23369005'>\n",
      "      <td align=\"right\" valign=\"top\" class=\"title\"><span class=\"rank\">17.</span></td>      <td valign=\"top\" class=\"votelinks\"><center><a id='up_23369005' href='vote?id=23369005&amp;how=up&amp;goto=news'><div class='votearrow' title='upvote'></div></a></center></td><td class=\"title\"><a href=\"https://unit42.paloaltonetworks.com/rootless-containers-the-next-trend-in-container-security/\" class=\"storylink\">Rootless Containers</a><span class=\"sitebit comhead\"> (<a href=\"from?site=paloaltonetworks.com\"><span class=\"sitestr\">paloaltonetworks.com</span></a>)</span></td></tr><tr><td colspan=\"2\"></td><td class=\"subtext\">\n",
      "        <span class=\"score\" id=\"score_23369005\">84 points</span> by <a href=\"user?id=palo\" class=\"hnuser\">palo</a> <span class=\"age\"><a href=\"item?id=23369005\">6 hours ago</a></span> <span id=\"unv_23369005\"></span> | <a href=\"hide?id=23369005&amp;goto=news\">hide</a> | <a href=\"item?id=23369005\">12&nbsp;comments</a>              </td></tr>\n",
      "      <tr class=\"spacer\" style=\"height:5px\"></tr>\n",
      "                <tr class='athing' id='23367458'>\n",
      "      <td align=\"right\" valign=\"top\" class=\"title\"><span class=\"rank\">18.</span></td>      <td valign=\"top\" class=\"votelinks\"><center><a id='up_23367458' href='vote?id=23367458&amp;how=up&amp;goto=news'><div class='votearrow' title='upvote'></div></a></center></td><td class=\"title\"><a href=\"https://placesjournal.org/article/liquid-cities\" class=\"storylink\">Liquid Cities: Japanese architecture and science fiction</a><span class=\"sitebit comhead\"> (<a href=\"from?site=placesjournal.org\"><span class=\"sitestr\">placesjournal.org</span></a>)</span></td></tr><tr><td colspan=\"2\"></td><td class=\"subtext\">\n",
      "        <span class=\"score\" id=\"score_23367458\">8 points</span> by <a href=\"user?id=Thevet\" class=\"hnuser\">Thevet</a> <span class=\"age\"><a href=\"item?id=23367458\">1 hour ago</a></span> <span id=\"unv_23367458\"></span> | <a href=\"hide?id=23367458&amp;goto=news\">hide</a> | <a href=\"item?id=23367458\">discuss</a>              </td></tr>\n",
      "      <tr class=\"spacer\" style=\"height:5px\"></tr>\n",
      "                <tr class='athing' id='23370879'>\n",
      "      <td align=\"right\" valign=\"top\" class=\"title\"><span class=\"rank\">19.</span></td>      <td valign=\"top\" class=\"votelinks\"><center><a id='up_23370879' href='vote?id=23370879&amp;how=up&amp;goto=news'><div class='votearrow' title='upvote'></div></a></center></td><td class=\"title\"><a href=\"https://space.stackexchange.com/questions/9243/what-computer-and-software-is-used-by-the-falcon-9\" class=\"storylink\">What computer and software is used by the Falcon 9?</a><span class=\"sitebit comhead\"> (<a href=\"from?site=stackexchange.com\"><span class=\"sitestr\">stackexchange.com</span></a>)</span></td></tr><tr><td colspan=\"2\"></td><td class=\"subtext\">\n",
      "        <span class=\"score\" id=\"score_23370879\">44 points</span> by <a href=\"user?id=raybb\" class=\"hnuser\">raybb</a> <span class=\"age\"><a href=\"item?id=23370879\">1 hour ago</a></span> <span id=\"unv_23370879\"></span> | <a href=\"hide?id=23370879&amp;goto=news\">hide</a> | <a href=\"item?id=23370879\">6&nbsp;comments</a>              </td></tr>\n",
      "      <tr class=\"spacer\" style=\"height:5px\"></tr>\n",
      "                <tr class='athing' id='23371130'>\n",
      "      <td align=\"right\" valign=\"top\" class=\"title\"><span class=\"rank\">20.</span></td>      <td valign=\"top\" class=\"votelinks\"><center><a id='up_23371130' href='vote?id=23371130&amp;how=up&amp;goto=news'><div class='votearrow' title='upvote'></div></a></center></td><td class=\"title\"><a href=\"https://thelandofrandom.substack.com/p/-the-800-sushi-box-btc-battle-royale\" class=\"storylink\" rel=\"nofollow\">Would you buy an $800 Sushi Box?</a><span class=\"sitebit comhead\"> (<a href=\"from?site=thelandofrandom.substack.com\"><span class=\"sitestr\">thelandofrandom.substack.com</span></a>)</span></td></tr><tr><td colspan=\"2\"></td><td class=\"subtext\">\n",
      "        <span class=\"score\" id=\"score_23371130\">14 points</span> by <a href=\"user?id=thelandofrandom\" class=\"hnuser\">thelandofrandom</a> <span class=\"age\"><a href=\"item?id=23371130\">1 hour ago</a></span> <span id=\"unv_23371130\"></span> | <a href=\"hide?id=23371130&amp;goto=news\">hide</a> | <a href=\"item?id=23371130\">5&nbsp;comments</a>              </td></tr>\n",
      "      <tr class=\"spacer\" style=\"height:5px\"></tr>\n",
      "                <tr class='athing' id='23369706'>\n",
      "      <td align=\"right\" valign=\"top\" class=\"title\"><span class=\"rank\">21.</span></td>      <td valign=\"top\" class=\"votelinks\"><center><a id='up_23369706' href='vote?id=23369706&amp;how=up&amp;goto=news'><div class='votearrow' title='upvote'></div></a></center></td><td class=\"title\"><a href=\"https://github.com/mkocabas/VIBE\" class=\"storylink\">Vibe: Video Human Pose Estimation</a><span class=\"sitebit comhead\"> (<a href=\"from?site=github.com\"><span class=\"sitestr\">github.com</span></a>)</span></td></tr><tr><td colspan=\"2\"></td><td class=\"subtext\">\n",
      "        <span class=\"score\" id=\"score_23369706\">38 points</span> by <a href=\"user?id=ericsson_puma\" class=\"hnuser\">ericsson_puma</a> <span class=\"age\"><a href=\"item?id=23369706\">4 hours ago</a></span> <span id=\"unv_23369706\"></span> | <a href=\"hide?id=23369706&amp;goto=news\">hide</a> | <a href=\"item?id=23369706\">6&nbsp;comments</a>              </td></tr>\n",
      "      <tr class=\"spacer\" style=\"height:5px\"></tr>\n",
      "                <tr class='athing' id='23361987'>\n",
      "      <td align=\"right\" valign=\"top\" class=\"title\"><span class=\"rank\">22.</span></td>      <td valign=\"top\" class=\"votelinks\"><center><a id='up_23361987' href='vote?id=23361987&amp;how=up&amp;goto=news'><div class='votearrow' title='upvote'></div></a></center></td><td class=\"title\"><a href=\"https://www.nasa.gov/press-release/nasa-astronauts-launch-from-america-in-historic-test-flight-of-spacex-crew-dragon\" class=\"storylink\">SpaceX successfully launches two humans into orbit</a><span class=\"sitebit comhead\"> (<a href=\"from?site=nasa.gov\"><span class=\"sitestr\">nasa.gov</span></a>)</span></td></tr><tr><td colspan=\"2\"></td><td class=\"subtext\">\n",
      "        <span class=\"score\" id=\"score_23361987\">2437 points</span> by <a href=\"user?id=tosh\" class=\"hnuser\">tosh</a> <span class=\"age\"><a href=\"item?id=23361987\">1 day ago</a></span> <span id=\"unv_23361987\"></span> | <a href=\"hide?id=23361987&amp;goto=news\">hide</a> | <a href=\"item?id=23361987\">721&nbsp;comments</a>              </td></tr>\n",
      "      <tr class=\"spacer\" style=\"height:5px\"></tr>\n",
      "                <tr class='athing' id='23370348'>\n",
      "      <td align=\"right\" valign=\"top\" class=\"title\"><span class=\"rank\">23.</span></td>      <td valign=\"top\" class=\"votelinks\"><center><a id='up_23370348' href='vote?id=23370348&amp;how=up&amp;goto=news'><div class='votearrow' title='upvote'></div></a></center></td><td class=\"title\"><a href=\"https://sonderdesign.com/keyboard/\" class=\"storylink\">Sonder: E-Ink Keyboard</a><span class=\"sitebit comhead\"> (<a href=\"from?site=sonderdesign.com\"><span class=\"sitestr\">sonderdesign.com</span></a>)</span></td></tr><tr><td colspan=\"2\"></td><td class=\"subtext\">\n",
      "        <span class=\"score\" id=\"score_23370348\">41 points</span> by <a href=\"user?id=tosh\" class=\"hnuser\">tosh</a> <span class=\"age\"><a href=\"item?id=23370348\">2 hours ago</a></span> <span id=\"unv_23370348\"></span> | <a href=\"hide?id=23370348&amp;goto=news\">hide</a> | <a href=\"item?id=23370348\">47&nbsp;comments</a>              </td></tr>\n",
      "      <tr class=\"spacer\" style=\"height:5px\"></tr>\n",
      "                <tr class='athing' id='23368094'>\n",
      "      <td align=\"right\" valign=\"top\" class=\"title\"><span class=\"rank\">24.</span></td>      <td valign=\"top\" class=\"votelinks\"><center><a id='up_23368094' href='vote?id=23368094&amp;how=up&amp;goto=news'><div class='votearrow' title='upvote'></div></a></center></td><td class=\"title\"><a href=\"https://www.sivv.io/article/5ecededf46cc9f76d4639b24/In-marginal-decisions,-favour-action-over-inaction\" class=\"storylink\">In marginal decisions, favour action over inaction</a><span class=\"sitebit comhead\"> (<a href=\"from?site=sivv.io\"><span class=\"sitestr\">sivv.io</span></a>)</span></td></tr><tr><td colspan=\"2\"></td><td class=\"subtext\">\n",
      "        <span class=\"score\" id=\"score_23368094\">99 points</span> by <a href=\"user?id=ChrisHardman29\" class=\"hnuser\">ChrisHardman29</a> <span class=\"age\"><a href=\"item?id=23368094\">10 hours ago</a></span> <span id=\"unv_23368094\"></span> | <a href=\"hide?id=23368094&amp;goto=news\">hide</a> | <a href=\"item?id=23368094\">57&nbsp;comments</a>              </td></tr>\n",
      "      <tr class=\"spacer\" style=\"height:5px\"></tr>\n",
      "                <tr class='athing' id='23370056'>\n",
      "      <td align=\"right\" valign=\"top\" class=\"title\"><span class=\"rank\">25.</span></td>      <td valign=\"top\" class=\"votelinks\"><center><a id='up_23370056' href='vote?id=23370056&amp;how=up&amp;goto=news'><div class='votearrow' title='upvote'></div></a></center></td><td class=\"title\"><a href=\"https://abcnews.go.com/US/court-oks-barring-high-iqs-cops/story?id=95836\" class=\"storylink\">Court OKs Barring High IQs for Cops (2000)</a><span class=\"sitebit comhead\"> (<a href=\"from?site=go.com\"><span class=\"sitestr\">go.com</span></a>)</span></td></tr><tr><td colspan=\"2\"></td><td class=\"subtext\">\n",
      "        <span class=\"score\" id=\"score_23370056\">142 points</span> by <a href=\"user?id=tosh\" class=\"hnuser\">tosh</a> <span class=\"age\"><a href=\"item?id=23370056\">3 hours ago</a></span> <span id=\"unv_23370056\"></span> | <a href=\"hide?id=23370056&amp;goto=news\">hide</a> | <a href=\"item?id=23370056\">44&nbsp;comments</a>              </td></tr>\n",
      "      <tr class=\"spacer\" style=\"height:5px\"></tr>\n",
      "                <tr class='athing' id='23368512'>\n",
      "      <td align=\"right\" valign=\"top\" class=\"title\"><span class=\"rank\">26.</span></td>      <td valign=\"top\" class=\"votelinks\"><center><a id='up_23368512' href='vote?id=23368512&amp;how=up&amp;goto=news'><div class='votearrow' title='upvote'></div></a></center></td><td class=\"title\"><a href=\"https://www.chzsoft.de/site/hardware/detecting-a-2.4-ghz-transmission-for-under-1-eur/\" class=\"storylink\">Detecting a 2.4 GHz transmission for under 1 EUR</a><span class=\"sitebit comhead\"> (<a href=\"from?site=chzsoft.de\"><span class=\"sitestr\">chzsoft.de</span></a>)</span></td></tr><tr><td colspan=\"2\"></td><td class=\"subtext\">\n",
      "        <span class=\"score\" id=\"score_23368512\">90 points</span> by <a href=\"user?id=nynyny7\" class=\"hnuser\">nynyny7</a> <span class=\"age\"><a href=\"item?id=23368512\">8 hours ago</a></span> <span id=\"unv_23368512\"></span> | <a href=\"hide?id=23368512&amp;goto=news\">hide</a> | <a href=\"item?id=23368512\">23&nbsp;comments</a>              </td></tr>\n",
      "      <tr class=\"spacer\" style=\"height:5px\"></tr>\n",
      "                <tr class='athing' id='23368617'>\n",
      "      <td align=\"right\" valign=\"top\" class=\"title\"><span class=\"rank\">27.</span></td>      <td valign=\"top\" class=\"votelinks\"><center><a id='up_23368617' href='vote?id=23368617&amp;how=up&amp;goto=news'><div class='votearrow' title='upvote'></div></a></center></td><td class=\"title\"><a href=\"https://www.theguardian.com/artanddesign/2020/may/31/tracing-the-lost-london-venues-that-helped-launch-amy-winehouse-hendrix-and-punk\" class=\"storylink\">Lost London venues that helped launch Hendrix, Winehouse and punk</a><span class=\"sitebit comhead\"> (<a href=\"from?site=theguardian.com\"><span class=\"sitestr\">theguardian.com</span></a>)</span></td></tr><tr><td colspan=\"2\"></td><td class=\"subtext\">\n",
      "        <span class=\"score\" id=\"score_23368617\">35 points</span> by <a href=\"user?id=samizdis\" class=\"hnuser\">samizdis</a> <span class=\"age\"><a href=\"item?id=23368617\">5 hours ago</a></span> <span id=\"unv_23368617\"></span> | <a href=\"hide?id=23368617&amp;goto=news\">hide</a> | <a href=\"item?id=23368617\">5&nbsp;comments</a>              </td></tr>\n",
      "      <tr class=\"spacer\" style=\"height:5px\"></tr>\n",
      "                <tr class='athing' id='23367850'>\n",
      "      <td align=\"right\" valign=\"top\" class=\"title\"><span class=\"rank\">28.</span></td>      <td valign=\"top\" class=\"votelinks\"><center><a id='up_23367850' href='vote?id=23367850&amp;how=up&amp;goto=news'><div class='votearrow' title='upvote'></div></a></center></td><td class=\"title\"><a href=\"https://www.penaddict.com/blog/2008/11/24/review-lamy-safari.html\" class=\"storylink\">Review: Lamy Safari (2008)</a><span class=\"sitebit comhead\"> (<a href=\"from?site=penaddict.com\"><span class=\"sitestr\">penaddict.com</span></a>)</span></td></tr><tr><td colspan=\"2\"></td><td class=\"subtext\">\n",
      "        <span class=\"score\" id=\"score_23367850\">25 points</span> by <a href=\"user?id=Tomte\" class=\"hnuser\">Tomte</a> <span class=\"age\"><a href=\"item?id=23367850\">4 hours ago</a></span> <span id=\"unv_23367850\"></span> | <a href=\"hide?id=23367850&amp;goto=news\">hide</a> | <a href=\"item?id=23367850\">36&nbsp;comments</a>              </td></tr>\n",
      "      <tr class=\"spacer\" style=\"height:5px\"></tr>\n",
      "                <tr class='athing' id='23368451'>\n",
      "      <td align=\"right\" valign=\"top\" class=\"title\"><span class=\"rank\">29.</span></td>      <td valign=\"top\" class=\"votelinks\"><center><a id='up_23368451' href='vote?id=23368451&amp;how=up&amp;goto=news'><div class='votearrow' title='upvote'></div></a></center></td><td class=\"title\"><a href=\"https://go-micro.dev?new\" class=\"storylink\">Show HN: Go Micro – A distributed systems development framework</a><span class=\"sitebit comhead\"> (<a href=\"from?site=go-micro.dev\"><span class=\"sitestr\">go-micro.dev</span></a>)</span></td></tr><tr><td colspan=\"2\"></td><td class=\"subtext\">\n",
      "        <span class=\"score\" id=\"score_23368451\">104 points</span> by <a href=\"user?id=asim\" class=\"hnuser\">asim</a> <span class=\"age\"><a href=\"item?id=23368451\">8 hours ago</a></span> <span id=\"unv_23368451\"></span> | <a href=\"hide?id=23368451&amp;goto=news\">hide</a> | <a href=\"item?id=23368451\">55&nbsp;comments</a>              </td></tr>\n",
      "      <tr class=\"spacer\" style=\"height:5px\"></tr>\n",
      "                <tr class='athing' id='23367442'>\n",
      "      <td align=\"right\" valign=\"top\" class=\"title\"><span class=\"rank\">30.</span></td>      <td valign=\"top\" class=\"votelinks\"><center><a id='up_23367442' href='vote?id=23367442&amp;how=up&amp;goto=news'><div class='votearrow' title='upvote'></div></a></center></td><td class=\"title\"><a href=\"https://www.commonwealmagazine.org/god-trick\" class=\"storylink\">The God Trick: ‘In the Shadow of Justice’</a><span class=\"sitebit comhead\"> (<a href=\"from?site=commonwealmagazine.org\"><span class=\"sitestr\">commonwealmagazine.org</span></a>)</span></td></tr><tr><td colspan=\"2\"></td><td class=\"subtext\">\n",
      "        <span class=\"score\" id=\"score_23367442\">15 points</span> by <a href=\"user?id=diodorus\" class=\"hnuser\">diodorus</a> <span class=\"age\"><a href=\"item?id=23367442\">3 hours ago</a></span> <span id=\"unv_23367442\"></span> | <a href=\"hide?id=23367442&amp;goto=news\">hide</a> | <a href=\"item?id=23367442\">12&nbsp;comments</a>              </td></tr>\n",
      "      <tr class=\"spacer\" style=\"height:5px\"></tr>\n",
      "            <tr class=\"morespace\" style=\"height:10px\"></tr><tr><td colspan=\"2\"></td><td class=\"title\"><a href=\"news?p=2\" class=\"morelink\" rel=\"next\">More</a></td></tr>\n",
      "  </table>\n",
      "</td></tr>\n",
      "<tr><td><img src=\"s.gif\" height=\"10\" width=\"0\"><table width=\"100%\" cellspacing=\"0\" cellpadding=\"1\"><tr><td bgcolor=\"#ff6600\"></td></tr></table><br><center><span class=\"yclinks\"><a href=\"newsguidelines.html\">Guidelines</a>\n",
      "        | <a href=\"newsfaq.html\">FAQ</a>\n",
      "        | <a href=\"mailto:hn@ycombinator.com\">Support</a>\n",
      "        | <a href=\"https://github.com/HackerNews/API\">API</a>\n",
      "        | <a href=\"security.html\">Security</a>\n",
      "        | <a href=\"lists\">Lists</a>\n",
      "        | <a href=\"bookmarklet.html\" rel=\"nofollow\">Bookmarklet</a>\n",
      "        | <a href=\"http://www.ycombinator.com/legal/\">Legal</a>\n",
      "        | <a href=\"http://www.ycombinator.com/apply/\">Apply to YC</a>\n",
      "        | <a href=\"mailto:hn@ycombinator.com\">Contact</a></span><br><br><form method=\"get\" action=\"//hn.algolia.com/\">Search:\n",
      "          <input type=\"text\" name=\"q\" value=\"\" size=\"17\" autocorrect=\"off\" spellcheck=\"false\" autocapitalize=\"off\" autocomplete=\"false\"></form>\n",
      "            </center></td></tr>\n",
      "      </table></center></body><script type='text/javascript' src='hn.js?6osDtdDRJS2fPerXRqDm'></script></html>\n",
      "\n"
     ]
    }
   ],
   "source": [
    "import requests\n",
    "\n",
    "# Fetch a web page\n",
    "r = requests.get(\"https://news.ycombinator.com\")\n",
    "print(r.text)"
   ]
  },
  {
   "cell_type": "code",
   "execution_count": 5,
   "metadata": {},
   "outputs": [
    {
     "name": "stdout",
     "output_type": "stream",
     "text": [
      "\n",
      "        \n",
      "          \n",
      "        Hacker News\n",
      "        \n",
      "                  Hacker News\n",
      "              new | past | comments | ask | show | jobs | submit            \n",
      "                              login\n",
      "                          \n",
      "              \n",
      "\n",
      "              \n",
      "      1.      A 1/48 scale model of the SpaceX Falcon Heavy rocket (bps.space)\n",
      "        406 points by pmorici 5 hours ago  | hide | 43&nbsp;comments              \n",
      "      \n",
      "                \n",
      "      2.      Image Scrubber: tool for anonymizing photographs taken at protests (everestpipkin.github.io)\n",
      "        256 points by dsr12 4 hours ago  | hide | 133&nbsp;comments              \n",
      "      \n",
      "                \n",
      "      3.      Basic Intro to Elliptic Curve Cryptography (2019) (qvault.io)\n",
      "        146 points by lanecwagner 3 hours ago  | hide | 26&nbsp;comments              \n",
      "      \n",
      "                \n",
      "      4.      Autism severity can change substantially during early childhood, study suggests (ucdavis.edu)\n",
      "        42 points by EndXA 2 hours ago  | hide | 34&nbsp;comments              \n",
      "      \n",
      "                \n",
      "      5.      Xfce switches to GitLab (shimmerproject.org)\n",
      "        206 points by reddotX 5 hours ago  | hide | 95&nbsp;comments              \n",
      "      \n",
      "                \n",
      "      6.      Ask HN: Am I the longest-serving programmer – 57 years and counting?\n",
      "        1862 points by genedangelo 17 hours ago  | hide | 371&nbsp;comments              \n",
      "      \n",
      "                \n",
      "      7.      The rise of React (increment.com)\n",
      "        50 points by prostoalex 2 hours ago  | hide | 22&nbsp;comments              \n",
      "      \n",
      "                \n",
      "      8.      Show HN: Print a WiFi Login Card (bdw.to)\n",
      "        39 points by bndw 2 hours ago  | hide | 17&nbsp;comments              \n",
      "      \n",
      "                \n",
      "      9.      Google gave our business listing to a competitor (parkcityluxuryrealestate.com)\n",
      "        490 points by benryon 14 hours ago  | hide | 122&nbsp;comments              \n",
      "      \n",
      "                \n",
      "      10.      Measuring keyboard-to-photon latency with a light sensor (thume.ca)\n",
      "        65 points by chmaynard 3 hours ago  | hide | 24&nbsp;comments              \n",
      "      \n",
      "                \n",
      "      11.      Featherweight Go (arxiv.org)\n",
      "        177 points by 4ad 8 hours ago  | hide | 79&nbsp;comments              \n",
      "      \n",
      "                \n",
      "      12.      Crew Dragon Docks with ISS (spacenews.com)\n",
      "        236 points by Kaibeezy 4 hours ago  | hide | 130&nbsp;comments              \n",
      "      \n",
      "                \n",
      "      13.      Chemical analysis and origin of the smell of line-dried laundry (publish.csiro.au)\n",
      "        102 points by bookofjoe 7 hours ago  | hide | 51&nbsp;comments              \n",
      "      \n",
      "                \n",
      "      14.      CI/CD on a budget for open source projects (danmunro.com)\n",
      "        21 points by danielmunro 3 hours ago  | hide | 4&nbsp;comments              \n",
      "      \n",
      "                \n",
      "      15.      Introduction to K-nearest neighbour algorithm using Sklear (ranvir.xyz)\n",
      "        11 points by shsharma 1 hour ago  | hide | 4&nbsp;comments              \n",
      "      \n",
      "                \n",
      "      16.      Kindly Stop Saying the Efficient Market Hypothesis Is Dead (thedeepdish.org)\n",
      "        39 points by jacobedawson 4 hours ago  | hide | 39&nbsp;comments              \n",
      "      \n",
      "                \n",
      "      17.      Rootless Containers (paloaltonetworks.com)\n",
      "        84 points by palo 6 hours ago  | hide | 12&nbsp;comments              \n",
      "      \n",
      "                \n",
      "      18.      Liquid Cities: Japanese architecture and science fiction (placesjournal.org)\n",
      "        8 points by Thevet 1 hour ago  | hide | discuss              \n",
      "      \n",
      "                \n",
      "      19.      What computer and software is used by the Falcon 9? (stackexchange.com)\n",
      "        44 points by raybb 1 hour ago  | hide | 6&nbsp;comments              \n",
      "      \n",
      "                \n",
      "      20.      Would you buy an $800 Sushi Box? (thelandofrandom.substack.com)\n",
      "        14 points by thelandofrandom 1 hour ago  | hide | 5&nbsp;comments              \n",
      "      \n",
      "                \n",
      "      21.      Vibe: Video Human Pose Estimation (github.com)\n",
      "        38 points by ericsson_puma 4 hours ago  | hide | 6&nbsp;comments              \n",
      "      \n",
      "                \n",
      "      22.      SpaceX successfully launches two humans into orbit (nasa.gov)\n",
      "        2437 points by tosh 1 day ago  | hide | 721&nbsp;comments              \n",
      "      \n",
      "                \n",
      "      23.      Sonder: E-Ink Keyboard (sonderdesign.com)\n",
      "        41 points by tosh 2 hours ago  | hide | 47&nbsp;comments              \n",
      "      \n",
      "                \n",
      "      24.      In marginal decisions, favour action over inaction (sivv.io)\n",
      "        99 points by ChrisHardman29 10 hours ago  | hide | 57&nbsp;comments              \n",
      "      \n",
      "                \n",
      "      25.      Court OKs Barring High IQs for Cops (2000) (go.com)\n",
      "        142 points by tosh 3 hours ago  | hide | 44&nbsp;comments              \n",
      "      \n",
      "                \n",
      "      26.      Detecting a 2.4 GHz transmission for under 1 EUR (chzsoft.de)\n",
      "        90 points by nynyny7 8 hours ago  | hide | 23&nbsp;comments              \n",
      "      \n",
      "                \n",
      "      27.      Lost London venues that helped launch Hendrix, Winehouse and punk (theguardian.com)\n",
      "        35 points by samizdis 5 hours ago  | hide | 5&nbsp;comments              \n",
      "      \n",
      "                \n",
      "      28.      Review: Lamy Safari (2008) (penaddict.com)\n",
      "        25 points by Tomte 4 hours ago  | hide | 36&nbsp;comments              \n",
      "      \n",
      "                \n",
      "      29.      Show HN: Go Micro – A distributed systems development framework (go-micro.dev)\n",
      "        104 points by asim 8 hours ago  | hide | 55&nbsp;comments              \n",
      "      \n",
      "                \n",
      "      30.      The God Trick: ‘In the Shadow of Justice’ (commonwealmagazine.org)\n",
      "        15 points by diodorus 3 hours ago  | hide | 12&nbsp;comments              \n",
      "      \n",
      "            More\n",
      "  \n",
      "\n",
      "Guidelines\n",
      "        | FAQ\n",
      "        | Support\n",
      "        | API\n",
      "        | Security\n",
      "        | Lists\n",
      "        | Bookmarklet\n",
      "        | Legal\n",
      "        | Apply to YC\n",
      "        | ContactSearch:\n",
      "          \n",
      "            \n",
      "      \n",
      "\n"
     ]
    }
   ],
   "source": [
    "import re\n",
    "\n",
    "# Remove HTML tags using RegEx\n",
    "pattern = re.compile(r'<.*?>')  # tags look like <...>\n",
    "print(pattern.sub('', r.text))  # replace them with blank"
   ]
  },
  {
   "cell_type": "code",
   "execution_count": 6,
   "metadata": {},
   "outputs": [
    {
     "name": "stdout",
     "output_type": "stream",
     "text": [
      "\n",
      "        \n",
      "          \n",
      "        Hacker News\n",
      "        \n",
      "                  Hacker News\n",
      "              new | past | comments | ask | show | jobs | submit            \n",
      "                              login\n",
      "                          \n",
      "              \n",
      "\n",
      "              \n",
      "      1.      A 1/48 scale model of the SpaceX Falcon Heavy rocket (bps.space)\n",
      "        406 points by pmorici 5 hours ago  | hide | 43 comments              \n",
      "      \n",
      "                \n",
      "      2.      Image Scrubber: tool for anonymizing photographs taken at protests (everestpipkin.github.io)\n",
      "        256 points by dsr12 4 hours ago  | hide | 133 comments              \n",
      "      \n",
      "                \n",
      "      3.      Basic Intro to Elliptic Curve Cryptography (2019) (qvault.io)\n",
      "        146 points by lanecwagner 3 hours ago  | hide | 26 comments              \n",
      "      \n",
      "                \n",
      "      4.      Autism severity can change substantially during early childhood, study suggests (ucdavis.edu)\n",
      "        42 points by EndXA 2 hours ago  | hide | 34 comments              \n",
      "      \n",
      "                \n",
      "      5.      Xfce switches to GitLab (shimmerproject.org)\n",
      "        206 points by reddotX 5 hours ago  | hide | 95 comments              \n",
      "      \n",
      "                \n",
      "      6.      Ask HN: Am I the longest-serving programmer – 57 years and counting?\n",
      "        1862 points by genedangelo 17 hours ago  | hide | 371 comments              \n",
      "      \n",
      "                \n",
      "      7.      The rise of React (increment.com)\n",
      "        50 points by prostoalex 2 hours ago  | hide | 22 comments              \n",
      "      \n",
      "                \n",
      "      8.      Show HN: Print a WiFi Login Card (bdw.to)\n",
      "        39 points by bndw 2 hours ago  | hide | 17 comments              \n",
      "      \n",
      "                \n",
      "      9.      Google gave our business listing to a competitor (parkcityluxuryrealestate.com)\n",
      "        490 points by benryon 14 hours ago  | hide | 122 comments              \n",
      "      \n",
      "                \n",
      "      10.      Measuring keyboard-to-photon latency with a light sensor (thume.ca)\n",
      "        65 points by chmaynard 3 hours ago  | hide | 24 comments              \n",
      "      \n",
      "                \n",
      "      11.      Featherweight Go (arxiv.org)\n",
      "        177 points by 4ad 8 hours ago  | hide | 79 comments              \n",
      "      \n",
      "                \n",
      "      12.      Crew Dragon Docks with ISS (spacenews.com)\n",
      "        236 points by Kaibeezy 4 hours ago  | hide | 130 comments              \n",
      "      \n",
      "                \n",
      "      13.      Chemical analysis and origin of the smell of line-dried laundry (publish.csiro.au)\n",
      "        102 points by bookofjoe 7 hours ago  | hide | 51 comments              \n",
      "      \n",
      "                \n",
      "      14.      CI/CD on a budget for open source projects (danmunro.com)\n",
      "        21 points by danielmunro 3 hours ago  | hide | 4 comments              \n",
      "      \n",
      "                \n",
      "      15.      Introduction to K-nearest neighbour algorithm using Sklear (ranvir.xyz)\n",
      "        11 points by shsharma 1 hour ago  | hide | 4 comments              \n",
      "      \n",
      "                \n",
      "      16.      Kindly Stop Saying the Efficient Market Hypothesis Is Dead (thedeepdish.org)\n",
      "        39 points by jacobedawson 4 hours ago  | hide | 39 comments              \n",
      "      \n",
      "                \n",
      "      17.      Rootless Containers (paloaltonetworks.com)\n",
      "        84 points by palo 6 hours ago  | hide | 12 comments              \n",
      "      \n",
      "                \n",
      "      18.      Liquid Cities: Japanese architecture and science fiction (placesjournal.org)\n",
      "        8 points by Thevet 1 hour ago  | hide | discuss              \n",
      "      \n",
      "                \n",
      "      19.      What computer and software is used by the Falcon 9? (stackexchange.com)\n",
      "        44 points by raybb 1 hour ago  | hide | 6 comments              \n",
      "      \n",
      "                \n",
      "      20.      Would you buy an $800 Sushi Box? (thelandofrandom.substack.com)\n",
      "        14 points by thelandofrandom 1 hour ago  | hide | 5 comments              \n",
      "      \n",
      "                \n",
      "      21.      Vibe: Video Human Pose Estimation (github.com)\n",
      "        38 points by ericsson_puma 4 hours ago  | hide | 6 comments              \n",
      "      \n",
      "                \n",
      "      22.      SpaceX successfully launches two humans into orbit (nasa.gov)\n",
      "        2437 points by tosh 1 day ago  | hide | 721 comments              \n",
      "      \n",
      "                \n",
      "      23.      Sonder: E-Ink Keyboard (sonderdesign.com)\n",
      "        41 points by tosh 2 hours ago  | hide | 47 comments              \n",
      "      \n",
      "                \n",
      "      24.      In marginal decisions, favour action over inaction (sivv.io)\n",
      "        99 points by ChrisHardman29 10 hours ago  | hide | 57 comments              \n",
      "      \n",
      "                \n",
      "      25.      Court OKs Barring High IQs for Cops (2000) (go.com)\n",
      "        142 points by tosh 3 hours ago  | hide | 44 comments              \n",
      "      \n",
      "                \n",
      "      26.      Detecting a 2.4 GHz transmission for under 1 EUR (chzsoft.de)\n",
      "        90 points by nynyny7 8 hours ago  | hide | 23 comments              \n",
      "      \n",
      "                \n",
      "      27.      Lost London venues that helped launch Hendrix, Winehouse and punk (theguardian.com)\n",
      "        35 points by samizdis 5 hours ago  | hide | 5 comments              \n",
      "      \n",
      "                \n",
      "      28.      Review: Lamy Safari (2008) (penaddict.com)\n",
      "        25 points by Tomte 4 hours ago  | hide | 36 comments              \n",
      "      \n",
      "                \n",
      "      29.      Show HN: Go Micro – A distributed systems development framework (go-micro.dev)\n",
      "        104 points by asim 8 hours ago  | hide | 55 comments              \n",
      "      \n",
      "                \n",
      "      30.      The God Trick: ‘In the Shadow of Justice’ (commonwealmagazine.org)\n",
      "        15 points by diodorus 3 hours ago  | hide | 12 comments              \n",
      "      \n",
      "            More\n",
      "  \n",
      "\n",
      "Guidelines\n",
      "        | FAQ\n",
      "        | Support\n",
      "        | API\n",
      "        | Security\n",
      "        | Lists\n",
      "        | Bookmarklet\n",
      "        | Legal\n",
      "        | Apply to YC\n",
      "        | ContactSearch:\n",
      "          \n",
      "            \n",
      "      \n",
      "\n"
     ]
    }
   ],
   "source": [
    "from bs4 import BeautifulSoup\n",
    "\n",
    "# Remove HTML tags using Beautiful Soup library\n",
    "soup = BeautifulSoup(r.text, \"html5lib\")\n",
    "print(soup.get_text())"
   ]
  },
  {
   "cell_type": "code",
   "execution_count": 7,
   "metadata": {
    "scrolled": true
   },
   "outputs": [
    {
     "data": {
      "text/plain": [
       "<tr class=\"athing\" id=\"23369604\">\n",
       "      <td align=\"right\" class=\"title\" valign=\"top\"><span class=\"rank\">1.</span></td>      <td class=\"votelinks\" valign=\"top\"><center><a href=\"vote?id=23369604&amp;how=up&amp;goto=news\" id=\"up_23369604\"><div class=\"votearrow\" title=\"upvote\"></div></a></center></td><td class=\"title\"><a class=\"storylink\" href=\"https://bps.space/falcon-heavy\">A 1/48 scale model of the SpaceX Falcon Heavy rocket</a><span class=\"sitebit comhead\"> (<a href=\"from?site=bps.space\"><span class=\"sitestr\">bps.space</span></a>)</span></td></tr>"
      ]
     },
     "execution_count": 7,
     "metadata": {},
     "output_type": "execute_result"
    }
   ],
   "source": [
    "# Find all articles\n",
    "summaries = soup.find_all(\"tr\", class_=\"athing\")\n",
    "summaries[0]"
   ]
  },
  {
   "cell_type": "code",
   "execution_count": 8,
   "metadata": {},
   "outputs": [
    {
     "data": {
      "text/plain": [
       "'A 1/48 scale model of the SpaceX Falcon Heavy rocket'"
      ]
     },
     "execution_count": 8,
     "metadata": {},
     "output_type": "execute_result"
    }
   ],
   "source": [
    "# Extract title\n",
    "summaries[0].find(\"a\", class_=\"storylink\").get_text().strip()"
   ]
  },
  {
   "cell_type": "code",
   "execution_count": 9,
   "metadata": {},
   "outputs": [
    {
     "name": "stdout",
     "output_type": "stream",
     "text": [
      "30 Article summaries found. Sample:\n",
      "A 1/48 scale model of the SpaceX Falcon Heavy rocket\n"
     ]
    }
   ],
   "source": [
    "# Find all articles, extract titles\n",
    "articles = []\n",
    "summaries = soup.find_all(\"tr\", class_=\"athing\")\n",
    "for summary in summaries:\n",
    "    title = summary.find(\"a\", class_=\"storylink\").get_text().strip()\n",
    "    articles.append((title))\n",
    "\n",
    "print(len(articles), \"Article summaries found. Sample:\")\n",
    "print(articles[0])"
   ]
  },
  {
   "cell_type": "markdown",
   "metadata": {
    "collapsed": true
   },
   "source": [
    "## Normalization"
   ]
  },
  {
   "cell_type": "markdown",
   "metadata": {},
   "source": [
    "### Case Normalization"
   ]
  },
  {
   "cell_type": "code",
   "execution_count": 10,
   "metadata": {},
   "outputs": [
    {
     "name": "stdout",
     "output_type": "stream",
     "text": [
      "The first time you see The Second Renaissance it may look boring. Look at it at least twice and definitely watch part 2. It will change your view of the matrix. Are the human people the ones who started the war ? Is AI a bad thing ?\n"
     ]
    }
   ],
   "source": [
    "# Sample text\n",
    "text = \"The first time you see The Second Renaissance it may look boring. Look at it at least twice and definitely watch part 2. It will change your view of the matrix. Are the human people the ones who started the war ? Is AI a bad thing ?\"\n",
    "print(text)"
   ]
  },
  {
   "cell_type": "code",
   "execution_count": 11,
   "metadata": {},
   "outputs": [
    {
     "name": "stdout",
     "output_type": "stream",
     "text": [
      "the first time you see the second renaissance it may look boring. look at it at least twice and definitely watch part 2. it will change your view of the matrix. are the human people the ones who started the war ? is ai a bad thing ?\n"
     ]
    }
   ],
   "source": [
    "# Convert to lowercase\n",
    "text = text.lower() \n",
    "print(text)"
   ]
  },
  {
   "cell_type": "markdown",
   "metadata": {},
   "source": [
    "### Punctuation Removal"
   ]
  },
  {
   "cell_type": "code",
   "execution_count": 12,
   "metadata": {},
   "outputs": [
    {
     "name": "stdout",
     "output_type": "stream",
     "text": [
      "the first time you see the second renaissance it may look boring  look at it at least twice and definitely watch part 2  it will change your view of the matrix  are the human people the ones who started the war   is ai a bad thing  \n"
     ]
    }
   ],
   "source": [
    "import re\n",
    "\n",
    "# Remove punctuation characters\n",
    "text = re.sub(r\"[^a-zA-Z0-9]\", \" \", text) \n",
    "print(text)"
   ]
  },
  {
   "cell_type": "markdown",
   "metadata": {},
   "source": [
    "## Tokenization"
   ]
  },
  {
   "cell_type": "code",
   "execution_count": 13,
   "metadata": {},
   "outputs": [
    {
     "name": "stdout",
     "output_type": "stream",
     "text": [
      "['the', 'first', 'time', 'you', 'see', 'the', 'second', 'renaissance', 'it', 'may', 'look', 'boring', 'look', 'at', 'it', 'at', 'least', 'twice', 'and', 'definitely', 'watch', 'part', '2', 'it', 'will', 'change', 'your', 'view', 'of', 'the', 'matrix', 'are', 'the', 'human', 'people', 'the', 'ones', 'who', 'started', 'the', 'war', 'is', 'ai', 'a', 'bad', 'thing']\n"
     ]
    }
   ],
   "source": [
    "# Split text into tokens (words)\n",
    "words = text.split()\n",
    "print(words)"
   ]
  },
  {
   "cell_type": "markdown",
   "metadata": {},
   "source": [
    "### NLTK: Natural Language ToolKit"
   ]
  },
  {
   "cell_type": "code",
   "execution_count": 14,
   "metadata": {},
   "outputs": [],
   "source": [
    "import os\n",
    "import nltk\n",
    "nltk.data.path.append(os.path.join(os.getcwd(), \"nltk_data\"))"
   ]
  },
  {
   "cell_type": "code",
   "execution_count": 15,
   "metadata": {},
   "outputs": [
    {
     "name": "stdout",
     "output_type": "stream",
     "text": [
      "Dr. Smith graduated from the University of Washington. He later started an analytics firm called Lux, which catered to enterprise customers.\n"
     ]
    }
   ],
   "source": [
    "# Another sample text\n",
    "text = \"Dr. Smith graduated from the University of Washington. He later started an analytics firm called Lux, which catered to enterprise customers.\"\n",
    "print(text)"
   ]
  },
  {
   "cell_type": "code",
   "execution_count": 16,
   "metadata": {},
   "outputs": [
    {
     "name": "stdout",
     "output_type": "stream",
     "text": [
      "['Dr.', 'Smith', 'graduated', 'from', 'the', 'University', 'of', 'Washington', '.', 'He', 'later', 'started', 'an', 'analytics', 'firm', 'called', 'Lux', ',', 'which', 'catered', 'to', 'enterprise', 'customers', '.']\n"
     ]
    }
   ],
   "source": [
    "from nltk.tokenize import word_tokenize\n",
    "\n",
    "# Split text into words using NLTK\n",
    "words = word_tokenize(text)\n",
    "print(words)"
   ]
  },
  {
   "cell_type": "code",
   "execution_count": 17,
   "metadata": {},
   "outputs": [
    {
     "name": "stdout",
     "output_type": "stream",
     "text": [
      "['Dr. Smith graduated from the University of Washington.', 'He later started an analytics firm called Lux, which catered to enterprise customers.']\n"
     ]
    }
   ],
   "source": [
    "from nltk.tokenize import sent_tokenize\n",
    "\n",
    "# Split text into sentences\n",
    "sentences = sent_tokenize(text)\n",
    "print(sentences)"
   ]
  },
  {
   "cell_type": "code",
   "execution_count": 18,
   "metadata": {},
   "outputs": [
    {
     "name": "stdout",
     "output_type": "stream",
     "text": [
      "['i', 'me', 'my', 'myself', 'we', 'our', 'ours', 'ourselves', 'you', \"you're\", \"you've\", \"you'll\", \"you'd\", 'your', 'yours', 'yourself', 'yourselves', 'he', 'him', 'his', 'himself', 'she', \"she's\", 'her', 'hers', 'herself', 'it', \"it's\", 'its', 'itself', 'they', 'them', 'their', 'theirs', 'themselves', 'what', 'which', 'who', 'whom', 'this', 'that', \"that'll\", 'these', 'those', 'am', 'is', 'are', 'was', 'were', 'be', 'been', 'being', 'have', 'has', 'had', 'having', 'do', 'does', 'did', 'doing', 'a', 'an', 'the', 'and', 'but', 'if', 'or', 'because', 'as', 'until', 'while', 'of', 'at', 'by', 'for', 'with', 'about', 'against', 'between', 'into', 'through', 'during', 'before', 'after', 'above', 'below', 'to', 'from', 'up', 'down', 'in', 'out', 'on', 'off', 'over', 'under', 'again', 'further', 'then', 'once', 'here', 'there', 'when', 'where', 'why', 'how', 'all', 'any', 'both', 'each', 'few', 'more', 'most', 'other', 'some', 'such', 'no', 'nor', 'not', 'only', 'own', 'same', 'so', 'than', 'too', 'very', 's', 't', 'can', 'will', 'just', 'don', \"don't\", 'should', \"should've\", 'now', 'd', 'll', 'm', 'o', 're', 've', 'y', 'ain', 'aren', \"aren't\", 'couldn', \"couldn't\", 'didn', \"didn't\", 'doesn', \"doesn't\", 'hadn', \"hadn't\", 'hasn', \"hasn't\", 'haven', \"haven't\", 'isn', \"isn't\", 'ma', 'mightn', \"mightn't\", 'mustn', \"mustn't\", 'needn', \"needn't\", 'shan', \"shan't\", 'shouldn', \"shouldn't\", 'wasn', \"wasn't\", 'weren', \"weren't\", 'won', \"won't\", 'wouldn', \"wouldn't\"]\n"
     ]
    }
   ],
   "source": [
    "# List stop words\n",
    "from nltk.corpus import stopwords\n",
    "print(stopwords.words(\"english\"))"
   ]
  },
  {
   "cell_type": "code",
   "execution_count": 19,
   "metadata": {},
   "outputs": [
    {
     "name": "stdout",
     "output_type": "stream",
     "text": [
      "['the', 'first', 'time', 'you', 'see', 'the', 'second', 'renaissance', 'it', 'may', 'look', 'boring', 'look', 'at', 'it', 'at', 'least', 'twice', 'and', 'definitely', 'watch', 'part', '2', 'it', 'will', 'change', 'your', 'view', 'of', 'the', 'matrix', 'are', 'the', 'human', 'people', 'the', 'ones', 'who', 'started', 'the', 'war', 'is', 'ai', 'a', 'bad', 'thing']\n"
     ]
    }
   ],
   "source": [
    "# Reset text\n",
    "text = \"The first time you see The Second Renaissance it may look boring. Look at it at least twice and definitely watch part 2. It will change your view of the matrix. Are the human people the ones who started the war ? Is AI a bad thing ?\"\n",
    "\n",
    "# Normalize it\n",
    "text = re.sub(r\"[^a-zA-Z0-9]\", \" \", text.lower())\n",
    "\n",
    "# Tokenize it\n",
    "words = text.split()\n",
    "print(words)"
   ]
  },
  {
   "cell_type": "code",
   "execution_count": 20,
   "metadata": {},
   "outputs": [
    {
     "name": "stdout",
     "output_type": "stream",
     "text": [
      "['first', 'time', 'see', 'second', 'renaissance', 'may', 'look', 'boring', 'look', 'least', 'twice', 'definitely', 'watch', 'part', '2', 'change', 'view', 'matrix', 'human', 'people', 'ones', 'started', 'war', 'ai', 'bad', 'thing']\n"
     ]
    }
   ],
   "source": [
    "# Remove stop words\n",
    "words = [w for w in words if w not in stopwords.words(\"english\")]\n",
    "print(words)"
   ]
  },
  {
   "cell_type": "markdown",
   "metadata": {},
   "source": [
    "### Sentence Parsing"
   ]
  },
  {
   "cell_type": "code",
   "execution_count": 21,
   "metadata": {},
   "outputs": [
    {
     "name": "stdout",
     "output_type": "stream",
     "text": [
      "(S\n",
      "  (NP I)\n",
      "  (VP\n",
      "    (VP (V shot) (NP (Det an) (N elephant)))\n",
      "    (PP (P in) (NP (Det my) (N pajamas)))))\n",
      "(S\n",
      "  (NP I)\n",
      "  (VP\n",
      "    (V shot)\n",
      "    (NP (Det an) (N elephant) (PP (P in) (NP (Det my) (N pajamas))))))\n"
     ]
    }
   ],
   "source": [
    "import nltk\n",
    "\n",
    "# Define a custom grammar\n",
    "my_grammar = nltk.CFG.fromstring(\"\"\"\n",
    "S -> NP VP\n",
    "PP -> P NP\n",
    "NP -> Det N | Det N PP | 'I'\n",
    "VP -> V NP | VP PP\n",
    "Det -> 'an' | 'my'\n",
    "N -> 'elephant' | 'pajamas'\n",
    "V -> 'shot'\n",
    "P -> 'in'\n",
    "\"\"\")\n",
    "parser = nltk.ChartParser(my_grammar)\n",
    "\n",
    "# Parse a sentence\n",
    "sentence = word_tokenize(\"I shot an elephant in my pajamas\")\n",
    "for tree in parser.parse(sentence):\n",
    "    print(tree)"
   ]
  },
  {
   "cell_type": "markdown",
   "metadata": {},
   "source": [
    "## Stemming & Lemmatization\n",
    "\n",
    "### Stemming"
   ]
  },
  {
   "cell_type": "code",
   "execution_count": 22,
   "metadata": {},
   "outputs": [
    {
     "name": "stdout",
     "output_type": "stream",
     "text": [
      "['first', 'time', 'see', 'second', 'renaiss', 'may', 'look', 'bore', 'look', 'least', 'twice', 'definit', 'watch', 'part', '2', 'chang', 'view', 'matrix', 'human', 'peopl', 'one', 'start', 'war', 'ai', 'bad', 'thing']\n"
     ]
    }
   ],
   "source": [
    "from nltk.stem.porter import PorterStemmer\n",
    "\n",
    "# Reduce words to their stems\n",
    "stemmed = [PorterStemmer().stem(w) for w in words]\n",
    "print(stemmed)"
   ]
  },
  {
   "cell_type": "markdown",
   "metadata": {},
   "source": [
    "### Lemmatization"
   ]
  },
  {
   "cell_type": "code",
   "execution_count": 23,
   "metadata": {},
   "outputs": [
    {
     "name": "stdout",
     "output_type": "stream",
     "text": [
      "['first', 'time', 'see', 'second', 'renaissance', 'may', 'look', 'boring', 'look', 'least', 'twice', 'definitely', 'watch', 'part', '2', 'change', 'view', 'matrix', 'human', 'people', 'one', 'started', 'war', 'ai', 'bad', 'thing']\n"
     ]
    }
   ],
   "source": [
    "from nltk.stem.wordnet import WordNetLemmatizer\n",
    "\n",
    "# Reduce words to their root form\n",
    "lemmed = [WordNetLemmatizer().lemmatize(w) for w in words]\n",
    "print(lemmed)"
   ]
  },
  {
   "cell_type": "code",
   "execution_count": 24,
   "metadata": {},
   "outputs": [
    {
     "name": "stdout",
     "output_type": "stream",
     "text": [
      "['first', 'time', 'see', 'second', 'renaissance', 'may', 'look', 'bore', 'look', 'least', 'twice', 'definitely', 'watch', 'part', '2', 'change', 'view', 'matrix', 'human', 'people', 'one', 'start', 'war', 'ai', 'bad', 'thing']\n"
     ]
    }
   ],
   "source": [
    "# Lemmatize verbs by specifying pos\n",
    "lemmed = [WordNetLemmatizer().lemmatize(w, pos='v') for w in lemmed]\n",
    "print(lemmed)"
   ]
  },
  {
   "cell_type": "code",
   "execution_count": null,
   "metadata": {},
   "outputs": [],
   "source": []
  }
 ],
 "metadata": {
  "kernelspec": {
   "display_name": "Python 3",
   "language": "python",
   "name": "python3"
  },
  "language_info": {
   "codemirror_mode": {
    "name": "ipython",
    "version": 3
   },
   "file_extension": ".py",
   "mimetype": "text/x-python",
   "name": "python",
   "nbconvert_exporter": "python",
   "pygments_lexer": "ipython3",
   "version": "3.6.3"
  }
 },
 "nbformat": 4,
 "nbformat_minor": 2
}
